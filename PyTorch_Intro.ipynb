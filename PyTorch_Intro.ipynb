{
  "nbformat": 4,
  "nbformat_minor": 0,
  "metadata": {
    "colab": {
      "provenance": [],
      "gpuType": "T4",
      "authorship_tag": "ABX9TyPksdMG3e0gm/eYmbeJ6h/S",
      "include_colab_link": true
    },
    "kernelspec": {
      "name": "python3",
      "display_name": "Python 3"
    },
    "language_info": {
      "name": "python"
    },
    "accelerator": "GPU"
  },
  "cells": [
    {
      "cell_type": "markdown",
      "metadata": {
        "id": "view-in-github",
        "colab_type": "text"
      },
      "source": [
        "<a href=\"https://colab.research.google.com/github/lucib3196/llm-sandbox/blob/main/PyTorch_Intro.ipynb\" target=\"_parent\"><img src=\"https://colab.research.google.com/assets/colab-badge.svg\" alt=\"Open In Colab\"/></a>"
      ]
    },
    {
      "cell_type": "code",
      "execution_count": 1,
      "metadata": {
        "colab": {
          "base_uri": "https://localhost:8080/"
        },
        "id": "29I8xF1oTiEP",
        "outputId": "e1805593-65b8-4955-a613-665b53a24231"
      },
      "outputs": [
        {
          "output_type": "stream",
          "name": "stdout",
          "text": [
            "Requirement already satisfied: torch in /usr/local/lib/python3.11/dist-packages (2.6.0+cu124)\n",
            "Requirement already satisfied: filelock in /usr/local/lib/python3.11/dist-packages (from torch) (3.18.0)\n",
            "Requirement already satisfied: typing-extensions>=4.10.0 in /usr/local/lib/python3.11/dist-packages (from torch) (4.13.2)\n",
            "Requirement already satisfied: networkx in /usr/local/lib/python3.11/dist-packages (from torch) (3.5)\n",
            "Requirement already satisfied: jinja2 in /usr/local/lib/python3.11/dist-packages (from torch) (3.1.6)\n",
            "Requirement already satisfied: fsspec in /usr/local/lib/python3.11/dist-packages (from torch) (2025.3.2)\n",
            "Collecting nvidia-cuda-nvrtc-cu12==12.4.127 (from torch)\n",
            "  Downloading nvidia_cuda_nvrtc_cu12-12.4.127-py3-none-manylinux2014_x86_64.whl.metadata (1.5 kB)\n",
            "Collecting nvidia-cuda-runtime-cu12==12.4.127 (from torch)\n",
            "  Downloading nvidia_cuda_runtime_cu12-12.4.127-py3-none-manylinux2014_x86_64.whl.metadata (1.5 kB)\n",
            "Collecting nvidia-cuda-cupti-cu12==12.4.127 (from torch)\n",
            "  Downloading nvidia_cuda_cupti_cu12-12.4.127-py3-none-manylinux2014_x86_64.whl.metadata (1.6 kB)\n",
            "Collecting nvidia-cudnn-cu12==9.1.0.70 (from torch)\n",
            "  Downloading nvidia_cudnn_cu12-9.1.0.70-py3-none-manylinux2014_x86_64.whl.metadata (1.6 kB)\n",
            "Collecting nvidia-cublas-cu12==12.4.5.8 (from torch)\n",
            "  Downloading nvidia_cublas_cu12-12.4.5.8-py3-none-manylinux2014_x86_64.whl.metadata (1.5 kB)\n",
            "Collecting nvidia-cufft-cu12==11.2.1.3 (from torch)\n",
            "  Downloading nvidia_cufft_cu12-11.2.1.3-py3-none-manylinux2014_x86_64.whl.metadata (1.5 kB)\n",
            "Collecting nvidia-curand-cu12==10.3.5.147 (from torch)\n",
            "  Downloading nvidia_curand_cu12-10.3.5.147-py3-none-manylinux2014_x86_64.whl.metadata (1.5 kB)\n",
            "Collecting nvidia-cusolver-cu12==11.6.1.9 (from torch)\n",
            "  Downloading nvidia_cusolver_cu12-11.6.1.9-py3-none-manylinux2014_x86_64.whl.metadata (1.6 kB)\n",
            "Collecting nvidia-cusparse-cu12==12.3.1.170 (from torch)\n",
            "  Downloading nvidia_cusparse_cu12-12.3.1.170-py3-none-manylinux2014_x86_64.whl.metadata (1.6 kB)\n",
            "Requirement already satisfied: nvidia-cusparselt-cu12==0.6.2 in /usr/local/lib/python3.11/dist-packages (from torch) (0.6.2)\n",
            "Requirement already satisfied: nvidia-nccl-cu12==2.21.5 in /usr/local/lib/python3.11/dist-packages (from torch) (2.21.5)\n",
            "Requirement already satisfied: nvidia-nvtx-cu12==12.4.127 in /usr/local/lib/python3.11/dist-packages (from torch) (12.4.127)\n",
            "Collecting nvidia-nvjitlink-cu12==12.4.127 (from torch)\n",
            "  Downloading nvidia_nvjitlink_cu12-12.4.127-py3-none-manylinux2014_x86_64.whl.metadata (1.5 kB)\n",
            "Requirement already satisfied: triton==3.2.0 in /usr/local/lib/python3.11/dist-packages (from torch) (3.2.0)\n",
            "Requirement already satisfied: sympy==1.13.1 in /usr/local/lib/python3.11/dist-packages (from torch) (1.13.1)\n",
            "Requirement already satisfied: mpmath<1.4,>=1.1.0 in /usr/local/lib/python3.11/dist-packages (from sympy==1.13.1->torch) (1.3.0)\n",
            "Requirement already satisfied: MarkupSafe>=2.0 in /usr/local/lib/python3.11/dist-packages (from jinja2->torch) (3.0.2)\n",
            "Downloading nvidia_cublas_cu12-12.4.5.8-py3-none-manylinux2014_x86_64.whl (363.4 MB)\n",
            "\u001b[2K   \u001b[90m━━━━━━━━━━━━━━━━━━━━━━━━━━━━━━━━━━━━━━━━\u001b[0m \u001b[32m363.4/363.4 MB\u001b[0m \u001b[31m4.3 MB/s\u001b[0m eta \u001b[36m0:00:00\u001b[0m\n",
            "\u001b[?25hDownloading nvidia_cuda_cupti_cu12-12.4.127-py3-none-manylinux2014_x86_64.whl (13.8 MB)\n",
            "\u001b[2K   \u001b[90m━━━━━━━━━━━━━━━━━━━━━━━━━━━━━━━━━━━━━━━━\u001b[0m \u001b[32m13.8/13.8 MB\u001b[0m \u001b[31m79.9 MB/s\u001b[0m eta \u001b[36m0:00:00\u001b[0m\n",
            "\u001b[?25hDownloading nvidia_cuda_nvrtc_cu12-12.4.127-py3-none-manylinux2014_x86_64.whl (24.6 MB)\n",
            "\u001b[2K   \u001b[90m━━━━━━━━━━━━━━━━━━━━━━━━━━━━━━━━━━━━━━━━\u001b[0m \u001b[32m24.6/24.6 MB\u001b[0m \u001b[31m32.9 MB/s\u001b[0m eta \u001b[36m0:00:00\u001b[0m\n",
            "\u001b[?25hDownloading nvidia_cuda_runtime_cu12-12.4.127-py3-none-manylinux2014_x86_64.whl (883 kB)\n",
            "\u001b[2K   \u001b[90m━━━━━━━━━━━━━━━━━━━━━━━━━━━━━━━━━━━━━━━━\u001b[0m \u001b[32m883.7/883.7 kB\u001b[0m \u001b[31m44.2 MB/s\u001b[0m eta \u001b[36m0:00:00\u001b[0m\n",
            "\u001b[?25hDownloading nvidia_cudnn_cu12-9.1.0.70-py3-none-manylinux2014_x86_64.whl (664.8 MB)\n",
            "\u001b[2K   \u001b[90m━━━━━━━━━━━━━━━━━━━━━━━━━━━━━━━━━━━━━━━━\u001b[0m \u001b[32m664.8/664.8 MB\u001b[0m \u001b[31m1.3 MB/s\u001b[0m eta \u001b[36m0:00:00\u001b[0m\n",
            "\u001b[?25hDownloading nvidia_cufft_cu12-11.2.1.3-py3-none-manylinux2014_x86_64.whl (211.5 MB)\n",
            "\u001b[2K   \u001b[90m━━━━━━━━━━━━━━━━━━━━━━━━━━━━━━━━━━━━━━━━\u001b[0m \u001b[32m211.5/211.5 MB\u001b[0m \u001b[31m5.5 MB/s\u001b[0m eta \u001b[36m0:00:00\u001b[0m\n",
            "\u001b[?25hDownloading nvidia_curand_cu12-10.3.5.147-py3-none-manylinux2014_x86_64.whl (56.3 MB)\n",
            "\u001b[2K   \u001b[90m━━━━━━━━━━━━━━━━━━━━━━━━━━━━━━━━━━━━━━━━\u001b[0m \u001b[32m56.3/56.3 MB\u001b[0m \u001b[31m17.7 MB/s\u001b[0m eta \u001b[36m0:00:00\u001b[0m\n",
            "\u001b[?25hDownloading nvidia_cusolver_cu12-11.6.1.9-py3-none-manylinux2014_x86_64.whl (127.9 MB)\n",
            "\u001b[2K   \u001b[90m━━━━━━━━━━━━━━━━━━━━━━━━━━━━━━━━━━━━━━━━\u001b[0m \u001b[32m127.9/127.9 MB\u001b[0m \u001b[31m7.5 MB/s\u001b[0m eta \u001b[36m0:00:00\u001b[0m\n",
            "\u001b[?25hDownloading nvidia_cusparse_cu12-12.3.1.170-py3-none-manylinux2014_x86_64.whl (207.5 MB)\n",
            "\u001b[2K   \u001b[90m━━━━━━━━━━━━━━━━━━━━━━━━━━━━━━━━━━━━━━━━\u001b[0m \u001b[32m207.5/207.5 MB\u001b[0m \u001b[31m5.3 MB/s\u001b[0m eta \u001b[36m0:00:00\u001b[0m\n",
            "\u001b[?25hDownloading nvidia_nvjitlink_cu12-12.4.127-py3-none-manylinux2014_x86_64.whl (21.1 MB)\n",
            "\u001b[2K   \u001b[90m━━━━━━━━━━━━━━━━━━━━━━━━━━━━━━━━━━━━━━━━\u001b[0m \u001b[32m21.1/21.1 MB\u001b[0m \u001b[31m68.3 MB/s\u001b[0m eta \u001b[36m0:00:00\u001b[0m\n",
            "\u001b[?25hInstalling collected packages: nvidia-nvjitlink-cu12, nvidia-curand-cu12, nvidia-cufft-cu12, nvidia-cuda-runtime-cu12, nvidia-cuda-nvrtc-cu12, nvidia-cuda-cupti-cu12, nvidia-cublas-cu12, nvidia-cusparse-cu12, nvidia-cudnn-cu12, nvidia-cusolver-cu12\n",
            "  Attempting uninstall: nvidia-nvjitlink-cu12\n",
            "    Found existing installation: nvidia-nvjitlink-cu12 12.5.82\n",
            "    Uninstalling nvidia-nvjitlink-cu12-12.5.82:\n",
            "      Successfully uninstalled nvidia-nvjitlink-cu12-12.5.82\n",
            "  Attempting uninstall: nvidia-curand-cu12\n",
            "    Found existing installation: nvidia-curand-cu12 10.3.6.82\n",
            "    Uninstalling nvidia-curand-cu12-10.3.6.82:\n",
            "      Successfully uninstalled nvidia-curand-cu12-10.3.6.82\n",
            "  Attempting uninstall: nvidia-cufft-cu12\n",
            "    Found existing installation: nvidia-cufft-cu12 11.2.3.61\n",
            "    Uninstalling nvidia-cufft-cu12-11.2.3.61:\n",
            "      Successfully uninstalled nvidia-cufft-cu12-11.2.3.61\n",
            "  Attempting uninstall: nvidia-cuda-runtime-cu12\n",
            "    Found existing installation: nvidia-cuda-runtime-cu12 12.5.82\n",
            "    Uninstalling nvidia-cuda-runtime-cu12-12.5.82:\n",
            "      Successfully uninstalled nvidia-cuda-runtime-cu12-12.5.82\n",
            "  Attempting uninstall: nvidia-cuda-nvrtc-cu12\n",
            "    Found existing installation: nvidia-cuda-nvrtc-cu12 12.5.82\n",
            "    Uninstalling nvidia-cuda-nvrtc-cu12-12.5.82:\n",
            "      Successfully uninstalled nvidia-cuda-nvrtc-cu12-12.5.82\n",
            "  Attempting uninstall: nvidia-cuda-cupti-cu12\n",
            "    Found existing installation: nvidia-cuda-cupti-cu12 12.5.82\n",
            "    Uninstalling nvidia-cuda-cupti-cu12-12.5.82:\n",
            "      Successfully uninstalled nvidia-cuda-cupti-cu12-12.5.82\n",
            "  Attempting uninstall: nvidia-cublas-cu12\n",
            "    Found existing installation: nvidia-cublas-cu12 12.5.3.2\n",
            "    Uninstalling nvidia-cublas-cu12-12.5.3.2:\n",
            "      Successfully uninstalled nvidia-cublas-cu12-12.5.3.2\n",
            "  Attempting uninstall: nvidia-cusparse-cu12\n",
            "    Found existing installation: nvidia-cusparse-cu12 12.5.1.3\n",
            "    Uninstalling nvidia-cusparse-cu12-12.5.1.3:\n",
            "      Successfully uninstalled nvidia-cusparse-cu12-12.5.1.3\n",
            "  Attempting uninstall: nvidia-cudnn-cu12\n",
            "    Found existing installation: nvidia-cudnn-cu12 9.3.0.75\n",
            "    Uninstalling nvidia-cudnn-cu12-9.3.0.75:\n",
            "      Successfully uninstalled nvidia-cudnn-cu12-9.3.0.75\n",
            "  Attempting uninstall: nvidia-cusolver-cu12\n",
            "    Found existing installation: nvidia-cusolver-cu12 11.6.3.83\n",
            "    Uninstalling nvidia-cusolver-cu12-11.6.3.83:\n",
            "      Successfully uninstalled nvidia-cusolver-cu12-11.6.3.83\n",
            "Successfully installed nvidia-cublas-cu12-12.4.5.8 nvidia-cuda-cupti-cu12-12.4.127 nvidia-cuda-nvrtc-cu12-12.4.127 nvidia-cuda-runtime-cu12-12.4.127 nvidia-cudnn-cu12-9.1.0.70 nvidia-cufft-cu12-11.2.1.3 nvidia-curand-cu12-10.3.5.147 nvidia-cusolver-cu12-11.6.1.9 nvidia-cusparse-cu12-12.3.1.170 nvidia-nvjitlink-cu12-12.4.127\n"
          ]
        }
      ],
      "source": [
        "pip install torch"
      ]
    },
    {
      "cell_type": "markdown",
      "source": [
        "## Tensor Creation"
      ],
      "metadata": {
        "id": "jQ-XhovDckdT"
      }
    },
    {
      "cell_type": "code",
      "source": [
        "import torch\n",
        "tensor0d = torch.tensor(1)\n",
        "tensor1d = torch.tensor([1,2,3])\n",
        "tensor2d = torch.tensor([[1,2,3],[4,5,6]])\n",
        "tensor3d = torch.tensor([[[1,2,3],[4,5,6]],[[7,8,9],[10,11,12]]])\n",
        "print(tensor3d.dtype)"
      ],
      "metadata": {
        "colab": {
          "base_uri": "https://localhost:8080/"
        },
        "id": "itApkxfEXUO0",
        "outputId": "f3593cee-ef0e-436c-a3df-843df1a99591"
      },
      "execution_count": 8,
      "outputs": [
        {
          "output_type": "stream",
          "name": "stdout",
          "text": [
            "torch.int64\n"
          ]
        }
      ]
    },
    {
      "cell_type": "markdown",
      "source": [
        "## Linear Regression with Pytorch"
      ],
      "metadata": {
        "id": "HIY83kZHcn24"
      }
    },
    {
      "cell_type": "code",
      "source": [
        "import torch.nn.functional as F\n",
        "from torch.autograd import grad\n",
        "\n",
        "y = torch.tensor([1.0]) # True Label\n",
        "x1 = torch.tensor([1.1]) # Input Feature\n",
        "w1 = torch.tensor([2.2], requires_grad=True) # Weight\n",
        "b = torch.tensor([0.0], requires_grad=True) # Bias\n",
        "z = x1*w1+b # Net Input\n",
        "a = torch.sigmoid(z) # Activationaand output\n",
        "loss = F.binary_cross_entropy(a,y)\n",
        "print(loss)\n",
        "\n",
        "grad_L_w1 = grad(loss,w1,retain_graph=True)\n",
        "grad_L_b = grad(loss,b,retain_graph=True)\n",
        "print(grad_L_w1)\n",
        "print(grad_L_b)"
      ],
      "metadata": {
        "colab": {
          "base_uri": "https://localhost:8080/"
        },
        "id": "2fnGZShRaCly",
        "outputId": "e4e2e0c7-1076-4633-af8b-cdca3ed5bb32"
      },
      "execution_count": 16,
      "outputs": [
        {
          "output_type": "stream",
          "name": "stdout",
          "text": [
            "tensor(0.0852, grad_fn=<BinaryCrossEntropyBackward0>)\n",
            "(tensor([-0.0898]),)\n",
            "(tensor([-0.0817]),)\n"
          ]
        }
      ]
    },
    {
      "cell_type": "markdown",
      "source": [
        "## Custom Neural Network"
      ],
      "metadata": {
        "id": "XJuf2QHwcrDf"
      }
    },
    {
      "cell_type": "code",
      "source": [
        "class NeuralNetwork(torch.nn.Module):\n",
        "  def __init__(self,num_inputs, num_outputs):\n",
        "    super().__init__()\n",
        "\n",
        "    self.layers = torch.nn.Sequential(\n",
        "        torch.nn.Linear(num_inputs,30),\n",
        "        torch.nn.ReLU(),\n",
        "\n",
        "        torch.nn.Linear(30,20),\n",
        "        torch.nn.ReLU(),\n",
        "\n",
        "        torch.nn.Linear(20,num_outputs))\n",
        "\n",
        "  def forward(self,x):\n",
        "    logits = self.layers(x)\n",
        "    return logits\n",
        "\n",
        "torch.manual_seed(69)\n",
        "model = NeuralNetwork(50,3)\n",
        "print(model)\n",
        "num_params = sum(p.numel() for p in model.parameters() if p.requires_grad)\n",
        "print(num_params)\n",
        "print(model.layers[0].weight)\n",
        "print(model.layers[0].weight.shape)\n",
        "\n",
        "# Compute\n",
        "X = torch.randn(1,50)\n",
        "print(X)\n",
        "with torch.no_grad():\n",
        "  logits = model(X)\n",
        "print(logits)"
      ],
      "metadata": {
        "colab": {
          "base_uri": "https://localhost:8080/"
        },
        "id": "0dsz07u9aGM_",
        "outputId": "6188d782-2553-4413-e976-4285c13aa564"
      },
      "execution_count": 33,
      "outputs": [
        {
          "output_type": "stream",
          "name": "stdout",
          "text": [
            "NeuralNetwork(\n",
            "  (layers): Sequential(\n",
            "    (0): Linear(in_features=50, out_features=30, bias=True)\n",
            "    (1): ReLU()\n",
            "    (2): Linear(in_features=30, out_features=20, bias=True)\n",
            "    (3): ReLU()\n",
            "    (4): Linear(in_features=20, out_features=3, bias=True)\n",
            "  )\n",
            ")\n",
            "2213\n",
            "Parameter containing:\n",
            "tensor([[ 0.0961,  0.0860, -0.1071,  ...,  0.0042,  0.0751,  0.0123],\n",
            "        [-0.0347, -0.0550,  0.0501,  ...,  0.0003,  0.0734,  0.0525],\n",
            "        [-0.0395, -0.0379,  0.1234,  ..., -0.1394, -0.0156,  0.0926],\n",
            "        ...,\n",
            "        [ 0.0267, -0.0669, -0.1213,  ..., -0.0425, -0.1011, -0.1052],\n",
            "        [ 0.1216,  0.0402, -0.0705,  ...,  0.0799,  0.0231, -0.0458],\n",
            "        [ 0.0467,  0.0275, -0.1199,  ..., -0.0855, -0.0845, -0.1152]],\n",
            "       requires_grad=True)\n",
            "torch.Size([30, 50])\n",
            "tensor([[ 0.1270, -0.4677, -0.8362, -0.7942, -0.0465, -1.4539, -0.4948, -0.4045,\n",
            "         -0.4724, -1.1489,  1.0102, -1.1374,  1.2405, -0.1574, -0.8747, -1.4901,\n",
            "         -0.2081,  0.4571, -1.4474, -0.6524,  0.0815,  0.4358, -0.0553,  1.6197,\n",
            "          1.1067, -2.0352,  2.3980, -0.1065, -0.3841,  0.6987,  1.5004, -0.3735,\n",
            "         -0.8401,  1.8587,  0.3721, -1.6135,  0.6528,  0.9933, -0.0116, -1.6731,\n",
            "         -1.3045, -1.9945, -1.3494, -1.0257,  0.6677,  0.8351,  1.5456,  0.2882,\n",
            "          1.2943, -0.5297]])\n",
            "tensor([[-0.0086, -0.2756, -0.3857]])\n"
          ]
        }
      ]
    },
    {
      "cell_type": "markdown",
      "source": [
        "## Setting up Efficient Data Loaders"
      ],
      "metadata": {
        "id": "izVTh8FZgafT"
      }
    },
    {
      "cell_type": "code",
      "source": [
        "X_train = torch.tensor([\n",
        "    [-1.2, 3.1],\n",
        "    [-0.9,2.9],\n",
        "    [-0.5,2.6],\n",
        "    [2.3,-1.1],\n",
        "    [2.7,-1.5]\n",
        "])\n",
        "\n",
        "y_train = torch.tensor([0,0,0,1,1])\n",
        "\n",
        "X_test = torch.tensor([\n",
        "    [-0.8,2.8],\n",
        "    [2.6,-1.6]\n",
        "])\n",
        "\n",
        "y_test = torch.tensor([0,1])\n",
        "\n",
        "\n",
        "from torch.utils.data import Dataset\n",
        "\n",
        "class ToyDataset(Dataset):\n",
        "  def __init__(self,X,y):\n",
        "    self.features = X\n",
        "    self.labels = y\n",
        "  def __getitem__(self,index):\n",
        "    one_x = self.features[index]\n",
        "    one_y = self.labels[index]\n",
        "    return one_x,one_y\n",
        "  def __len__(self):\n",
        "    return self.labels.shape[0]\n",
        "\n",
        "train_ds = ToyDataset(X_train,y_train)\n",
        "test_ds = ToyDataset(X_test,y_test)"
      ],
      "metadata": {
        "id": "ETvTuFI8gcmL"
      },
      "execution_count": 34,
      "outputs": []
    },
    {
      "cell_type": "code",
      "source": [
        "from torch.utils.data import DataLoader\n",
        "\n",
        "torch.manual_seed(69)\n",
        "\n",
        "train_loaded = DataLoader(\n",
        "    dataset = train_ds,\n",
        "    batch_size = 2,\n",
        "    shuffle=True,\n",
        "    num_workers=0\n",
        ")\n",
        "\n",
        "\n",
        "test_loader = DataLoader(\n",
        "    dataset = test_ds,\n",
        "    batch_size = 2,\n",
        "    shuffle=False,\n",
        "    num_workers=0\n",
        ")\n",
        "\n",
        "\n",
        "for idx, (x,y) in enumerate(train_loaded):\n",
        "  print(f\"Batch {idx+1}:\", x, y)"
      ],
      "metadata": {
        "colab": {
          "base_uri": "https://localhost:8080/"
        },
        "id": "tNoHi4L1hdwK",
        "outputId": "63201b71-abc8-4c78-94c6-7d06c94ddef1"
      },
      "execution_count": 35,
      "outputs": [
        {
          "output_type": "stream",
          "name": "stdout",
          "text": [
            "Batch 1: tensor([[-0.9000,  2.9000],\n",
            "        [-1.2000,  3.1000]]) tensor([0, 0])\n",
            "Batch 2: tensor([[ 2.3000, -1.1000],\n",
            "        [-0.5000,  2.6000]]) tensor([1, 0])\n",
            "Batch 3: tensor([[ 2.7000, -1.5000]]) tensor([1])\n"
          ]
        }
      ]
    },
    {
      "cell_type": "markdown",
      "source": [
        "## Neural Network"
      ],
      "metadata": {
        "id": "tHLJK_tQmAHk"
      }
    },
    {
      "cell_type": "code",
      "source": [
        "import torch.nn.functional as F\n",
        "\n",
        "torch.manual_seed(45)\n",
        "model = NeuralNetwork(2,2)\n",
        "optimizer = torch.optim.SGD(model.parameters(),lr=0.5)\n",
        "num_epochs = 3\n",
        "for epoch in range(num_epochs):\n",
        "  model.train()\n",
        "  for batch_idx, (features, labels) in enumerate(train_loaded):\n",
        "    logits = model(features)\n",
        "\n",
        "    loss = F.cross_entropy(logits,labels)\n",
        "    optimizer.zero_grad() # Set the gradiants from the previous to 0\n",
        "    loss.backward() # Computes the gradiant of the loss\n",
        "    optimizer.step() # Update the gradiant\n",
        "\n",
        "\n",
        "    print(f\"Epoch {epoch+1:03d}/{num_epochs:03d}\\n Batch {batch_idx}/{len(train_loaded)}\\n Train Loss {loss:.2f}\")\n",
        "\n",
        "  model.eval()\n",
        "  with torch.no_grad():\n",
        "    outputs = model(X_train)\n",
        "  print(outputs)\n",
        "  torch.set_printoptions(sci_mode=False)\n",
        "  probas = F.softmax(outputs,dim=1)\n",
        "  print(probas)\n",
        "  predictions = torch.argmax(probas,dim=1)\n",
        "  print(predictions)\n"
      ],
      "metadata": {
        "colab": {
          "base_uri": "https://localhost:8080/"
        },
        "id": "-wMHv5CpmCWO",
        "outputId": "143a4842-a304-4774-f474-e64c5ac76e8a"
      },
      "execution_count": 42,
      "outputs": [
        {
          "output_type": "stream",
          "name": "stdout",
          "text": [
            "Epoch 001/003\n",
            " Batch 0/3\n",
            " Train Loss 0.73\n",
            "Epoch 001/003\n",
            " Batch 1/3\n",
            " Train Loss 0.31\n",
            "Epoch 001/003\n",
            " Batch 2/3\n",
            " Train Loss 0.06\n",
            "tensor([[ 2.5766, -2.1943],\n",
            "        [ 2.3748, -2.0220],\n",
            "        [ 2.0880, -1.7799],\n",
            "        [-0.4528,  1.0581],\n",
            "        [-0.5114,  1.2596]])\n",
            "tensor([[0.9916, 0.0084],\n",
            "        [0.9878, 0.0122],\n",
            "        [0.9795, 0.0205],\n",
            "        [0.1808, 0.8192],\n",
            "        [0.1454, 0.8546]])\n",
            "tensor([0, 0, 0, 1, 1])\n",
            "Epoch 002/003\n",
            " Batch 0/3\n",
            " Train Loss 0.01\n",
            "Epoch 002/003\n",
            " Batch 1/3\n",
            " Train Loss 0.11\n",
            "Epoch 002/003\n",
            " Batch 2/3\n",
            " Train Loss 0.05\n",
            "tensor([[ 2.8130, -2.4231],\n",
            "        [ 2.5870, -2.2275],\n",
            "        [ 2.2664, -1.9539],\n",
            "        [-1.3864,  2.1732],\n",
            "        [-1.6052,  2.5702]])\n",
            "tensor([[0.9947, 0.0053],\n",
            "        [0.9920, 0.0080],\n",
            "        [0.9855, 0.0145],\n",
            "        [0.0277, 0.9723],\n",
            "        [0.0151, 0.9849]])\n",
            "tensor([0, 0, 0, 1, 1])\n",
            "Epoch 003/003\n",
            " Batch 0/3\n",
            " Train Loss 0.02\n",
            "Epoch 003/003\n",
            " Batch 1/3\n",
            " Train Loss 0.01\n",
            "Epoch 003/003\n",
            " Batch 2/3\n",
            " Train Loss 0.00\n",
            "tensor([[ 3.1600, -2.7700],\n",
            "        [ 2.9075, -2.5479],\n",
            "        [ 2.5487, -2.2360],\n",
            "        [-1.5912,  2.4252],\n",
            "        [-1.8466,  2.8681]])\n",
            "tensor([[0.9973, 0.0027],\n",
            "        [0.9957, 0.0043],\n",
            "        [0.9917, 0.0083],\n",
            "        [0.0177, 0.9823],\n",
            "        [0.0089, 0.9911]])\n",
            "tensor([0, 0, 0, 1, 1])\n"
          ]
        }
      ]
    }
  ]
}